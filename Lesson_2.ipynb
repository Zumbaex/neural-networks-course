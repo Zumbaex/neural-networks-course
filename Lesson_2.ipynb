{
  "nbformat": 4,
  "nbformat_minor": 0,
  "metadata": {
    "colab": {
      "provenance": []
    },
    "kernelspec": {
      "name": "python3",
      "display_name": "Python 3"
    },
    "language_info": {
      "name": "python"
    }
  },
  "cells": [
    {
      "cell_type": "code",
      "execution_count": 7,
      "metadata": {
        "id": "2ve-aFP8TfUd"
      },
      "outputs": [],
      "source": [
        "import numpy as np\n",
        "import pandas as pd\n",
        "import mnist\n",
        "from keras.datasets import fashion_mnist\n",
        "from keras.models import Sequential\n",
        "from keras.layers import Dense\n",
        "from keras.utils import to_categorical\n",
        "from scikeras.wrappers import KerasClassifier\n",
        "from sklearn.model_selection import GridSearchCV\n",
        "from sklearn.preprocessing import normalize"
      ]
    },
    {
      "cell_type": "code",
      "source": [
        "train_images = mnist.train_images()\n",
        "train_labels = mnist.train_labels()\n",
        "test_images = mnist.test_images()\n",
        "test_labels = mnist.test_labels()"
      ],
      "metadata": {
        "id": "M4f-BYU2UFKl"
      },
      "execution_count": 8,
      "outputs": []
    },
    {
      "cell_type": "code",
      "source": [
        "train_images = (train_images / 255)\n",
        "test_images = (test_images / 255)"
      ],
      "metadata": {
        "id": "ziklgw3gUjnR"
      },
      "execution_count": 9,
      "outputs": []
    },
    {
      "cell_type": "code",
      "source": [
        "train_images = train_images.reshape((-1, 784))\n",
        "test_images = test_images.reshape((-1, 784))"
      ],
      "metadata": {
        "id": "6frWWPI5VJtF"
      },
      "execution_count": 10,
      "outputs": []
    },
    {
      "cell_type": "code",
      "source": [
        "def create_model(optimizer='adam'):\n",
        "    model = Sequential([\n",
        "      Dense(128, input_shape=(784,), activation='relu'),\n",
        "      Dense(64, activation='relu'),\n",
        "      Dense(10, activation='softmax')\n",
        "    ])\n",
        "\n",
        "    model.compile(\n",
        "      optimizer=optimizer,\n",
        "      loss='categorical_crossentropy',\n",
        "      metrics=['accuracy'],\n",
        "    )\n",
        "    return model"
      ],
      "metadata": {
        "id": "_yGQCJdQVNvK"
      },
      "execution_count": 14,
      "outputs": []
    },
    {
      "cell_type": "code",
      "source": [
        "model = create_model()\n",
        "\n",
        "model.fit(train_images, to_categorical(train_labels), epochs=10, batch_size=64)\n",
        "\n",
        "loss,metrics = model.evaluate(test_images, to_categorical(test_labels))\n",
        "print('*****************************')\n",
        "print(f'Loss - {np.round(loss,2)}, Metrics - {np.round(metrics,2)}')"
      ],
      "metadata": {
        "colab": {
          "base_uri": "https://localhost:8080/"
        },
        "id": "n4cORf4GVfri",
        "outputId": "65a3b6cb-8efd-4b4d-affb-ee9484a13657"
      },
      "execution_count": 15,
      "outputs": [
        {
          "output_type": "stream",
          "name": "stdout",
          "text": [
            "Epoch 1/5\n",
            "1875/1875 [==============================] - 5s 3ms/step - loss: 0.2353 - accuracy: 0.9317\n",
            "Epoch 2/5\n",
            "1875/1875 [==============================] - 5s 3ms/step - loss: 0.1001 - accuracy: 0.9696\n",
            "Epoch 3/5\n",
            "1875/1875 [==============================] - 5s 3ms/step - loss: 0.0707 - accuracy: 0.9776\n",
            "Epoch 4/5\n",
            "1875/1875 [==============================] - 5s 3ms/step - loss: 0.0537 - accuracy: 0.9831\n",
            "Epoch 5/5\n",
            "1875/1875 [==============================] - 5s 3ms/step - loss: 0.0440 - accuracy: 0.9860\n",
            "313/313 [==============================] - 0s 1ms/step - loss: 0.0821 - accuracy: 0.9764\n",
            "*****************************\n",
            "Loss - 0.08, Metrics - 0.98\n"
          ]
        }
      ]
    },
    {
      "cell_type": "code",
      "source": [
        "predictions = model.predict(test_images[:10])\n",
        "\n",
        "print(f'Predictions: {np.argmax(predictions, axis=1)}')\n",
        "\n",
        "print(f'True labels: {test_labels[:10]}')"
      ],
      "metadata": {
        "colab": {
          "base_uri": "https://localhost:8080/"
        },
        "id": "z1P9TFKcZnfJ",
        "outputId": "b82413a5-f78b-4c78-c568-c39de7035689"
      },
      "execution_count": 16,
      "outputs": [
        {
          "output_type": "stream",
          "name": "stdout",
          "text": [
            "1/1 [==============================] - 0s 70ms/step\n",
            "Predictions: [7 2 1 0 4 1 4 9 5 9]\n",
            "True labels: [7 2 1 0 4 1 4 9 5 9]\n"
          ]
        }
      ]
    }
  ]
}